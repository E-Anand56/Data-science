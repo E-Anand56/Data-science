{
 "cells": [
  {
   "cell_type": "code",
   "execution_count": 6,
   "id": "b71ba95c-5d72-48e3-a4e0-0dad9a120787",
   "metadata": {},
   "outputs": [],
   "source": [
    "import pandas as pd"
   ]
  },
  {
   "cell_type": "code",
   "execution_count": 7,
   "id": "43196800-810c-4cfe-ae89-9d9335d69d20",
   "metadata": {},
   "outputs": [],
   "source": [
    "data=pd.read_csv('Placement.csv')"
   ]
  },
  {
   "cell_type": "code",
   "execution_count": 8,
   "id": "b52e2130-da45-47e3-b3d4-03c289b3a3f8",
   "metadata": {},
   "outputs": [],
   "source": [
    "from univariate import univariate"
   ]
  },
  {
   "cell_type": "code",
   "execution_count": null,
   "id": "4fa8f451-7845-4eea-85f8-33e36eb6d36e",
   "metadata": {},
   "outputs": [],
   "source": [
    "quan,qual=univariate.quanqual(data)"
   ]
  },
  {
   "cell_type": "code",
   "execution_count": null,
   "id": "6a41cf7a-c7a1-4a9b-aa4c-c3a390079598",
   "metadata": {},
   "outputs": [],
   "source": [
    "print(quan)"
   ]
  },
  {
   "cell_type": "code",
   "execution_count": null,
   "id": "9b57ea9c-988c-4b77-8203-226ba1221e59",
   "metadata": {},
   "outputs": [],
   "source": [
    "print(qual)"
   ]
  },
  {
   "cell_type": "code",
   "execution_count": 3,
   "id": "91f58ed7-d664-49e8-bf51-f31ee39ae551",
   "metadata": {},
   "outputs": [
    {
     "ename": "ImportError",
     "evalue": "cannot import name 'info' from 'univariate' (C:\\Users\\anand\\OneDrive\\Desktop\\Hope\\3.univariate analysis\\1.quanqual\\univariate.py)",
     "output_type": "error",
     "traceback": [
      "\u001b[1;31m---------------------------------------------------------------------------\u001b[0m",
      "\u001b[1;31mImportError\u001b[0m                               Traceback (most recent call last)",
      "Cell \u001b[1;32mIn[3], line 1\u001b[0m\n\u001b[1;32m----> 1\u001b[0m \u001b[38;5;28;01mfrom\u001b[39;00m\u001b[38;5;250m \u001b[39m\u001b[38;5;21;01munivariate\u001b[39;00m\u001b[38;5;250m \u001b[39m\u001b[38;5;28;01mimport\u001b[39;00m info\n",
      "\u001b[1;31mImportError\u001b[0m: cannot import name 'info' from 'univariate' (C:\\Users\\anand\\OneDrive\\Desktop\\Hope\\3.univariate analysis\\1.quanqual\\univariate.py)"
     ]
    }
   ],
   "source": [
    "from univariate import info"
   ]
  },
  {
   "cell_type": "code",
   "execution_count": null,
   "id": "0ff00c0c-777c-40ae-a9d0-119a0fa9a5db",
   "metadata": {},
   "outputs": [],
   "source": []
  }
 ],
 "metadata": {
  "kernelspec": {
   "display_name": "Python 3 (ipykernel)",
   "language": "python",
   "name": "python3"
  },
  "language_info": {
   "codemirror_mode": {
    "name": "ipython",
    "version": 3
   },
   "file_extension": ".py",
   "mimetype": "text/x-python",
   "name": "python",
   "nbconvert_exporter": "python",
   "pygments_lexer": "ipython3",
   "version": "3.13.5"
  }
 },
 "nbformat": 4,
 "nbformat_minor": 5
}
